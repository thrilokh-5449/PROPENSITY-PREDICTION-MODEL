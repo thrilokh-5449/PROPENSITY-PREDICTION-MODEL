{
 "cells": [
  {
   "cell_type": "markdown",
   "id": "f0cd3bbf",
   "metadata": {},
   "source": [
    "# Importing Data and Libraries"
   ]
  },
  {
   "cell_type": "code",
   "execution_count": 1,
   "id": "6ef5a68f",
   "metadata": {},
   "outputs": [],
   "source": [
    "import numpy as np\n",
    "import pandas as pd\n",
    "import matplotlib.pyplot as plt\n",
    "import seaborn as sns"
   ]
  },
  {
   "cell_type": "code",
   "execution_count": 19,
   "id": "ba1d7c72",
   "metadata": {},
   "outputs": [],
   "source": [
    "plt.rc(\"font\", size=10)\n",
    "sns.set(rc={\"figure.dpi\":200, 'savefig.dpi':200})\n",
    "sns.set_palette(\"Set2\")\n",
    "sns.set_style(\"white\")\n",
    "sns.set_style(\"ticks\")"
   ]
  },
  {
   "cell_type": "code",
   "execution_count": 3,
   "id": "9ef4d248",
   "metadata": {},
   "outputs": [],
   "source": [
    "path1 = r\"C:\\Users\\aks25\\Documents\\Jupyter Notebook\\IDA project\\amex_train1.xlsx\"\n",
    "path2 = r\"C:\\Users\\aks25\\Documents\\Jupyter Notebook\\IDA project\\amex_test1.xlsx\"\n",
    "train_data = pd.read_excel(path1)\n",
    "test_data= pd.read_excel(path2)"
   ]
  },
  {
   "cell_type": "code",
   "execution_count": 5,
   "id": "25d9171e",
   "metadata": {},
   "outputs": [],
   "source": [
    "df= train_data.set_index('application_key')\n",
    "dft=test_data.set_index('application_key')"
   ]
  },
  {
   "cell_type": "code",
   "execution_count": 6,
   "id": "7287556c",
   "metadata": {},
   "outputs": [],
   "source": [
    "def value_counts_func(column_name):\n",
    "    print(df[column_name].value_counts().sort_values(),\"\\n\")\n",
    "    print(dft[column_name].value_counts().sort_values(),\"\\n\")"
   ]
  },
  {
   "cell_type": "markdown",
   "id": "2e9207fd",
   "metadata": {},
   "source": [
    "# Non Numeric Values to NaN"
   ]
  },
  {
   "cell_type": "code",
   "execution_count": null,
   "id": "3bd91ffd",
   "metadata": {},
   "outputs": [],
   "source": [
    "#String to NaN\n",
    "df = pd.DataFrame()\n",
    "for col in df1.columns:\n",
    "    df3[col] = pd.to_numeric(df1[col], errors='coerce')\n",
    "\n",
    "dft = pd.DataFrame()\n",
    "for col in dft1.columns:\n",
    "    dft3[col] = pd.to_numeric(dft1[col], errors='coerce')"
   ]
  },
  {
   "cell_type": "code",
   "execution_count": 8,
   "id": "70aa0ff3",
   "metadata": {},
   "outputs": [],
   "source": [
    "cols= ['mvar1', 'mvar2', 'mvar3', 'mvar4', 'mvar5', 'mvar6', 'mvar7', 'mvar8',\n",
    "       'mvar9', 'mvar10', 'mvar11', 'mvar12', 'mvar13', 'mvar14', 'mvar15',\n",
    "       'mvar16', 'mvar17', 'mvar18', 'mvar19', 'mvar20', 'mvar21', 'mvar22',\n",
    "       'mvar23', 'mvar24', 'mvar25', 'mvar26', 'mvar27', 'mvar28', 'mvar29',\n",
    "       'mvar30', 'mvar31', 'mvar32', 'mvar33', 'mvar34', 'mvar35', 'mvar36',\n",
    "       'mvar37', 'mvar38', 'mvar39', 'mvar40', 'mvar41', 'mvar42', 'mvar43',\n",
    "       'mvar44', 'mvar45', 'mvar46', 'mvar47', 'mvar48', 'mvar49', 'mvar50',\n",
    "       'mvar51']"
   ]
  },
  {
   "cell_type": "code",
   "execution_count": 9,
   "id": "e40e173d",
   "metadata": {},
   "outputs": [],
   "source": [
    "df1=df\n",
    "dft1=dft"
   ]
  },
  {
   "cell_type": "markdown",
   "id": "e012c12d",
   "metadata": {},
   "source": [
    "# Missing value imputation"
   ]
  },
  {
   "cell_type": "code",
   "execution_count": 10,
   "id": "90931b1b",
   "metadata": {},
   "outputs": [],
   "source": [
    "from sklearn.experimental import enable_iterative_imputer\n",
    "from sklearn.impute import IterativeImputer"
   ]
  },
  {
   "cell_type": "code",
   "execution_count": 11,
   "id": "4d64db8a",
   "metadata": {
    "scrolled": true
   },
   "outputs": [
    {
     "name": "stdout",
     "output_type": "stream",
     "text": [
      "[[1.696e+03 2.000e+00 0.000e+00 ... 4.000e+00 3.080e+03 0.000e+00]\n",
      " [1.846e+03 1.000e+00 0.000e+00 ... 5.000e+00 2.185e+03 1.000e+00]\n",
      " [1.745e+03 0.000e+00 0.000e+00 ... 4.000e+00 3.180e+03 1.000e+00]\n",
      " ...\n",
      " [1.907e+03 0.000e+00 0.000e+00 ... 5.000e+00 3.620e+03 0.000e+00]\n",
      " [1.744e+03 2.000e+00 0.000e+00 ... 4.000e+00 2.524e+03 0.000e+00]\n",
      " [1.832e+03 2.000e+00 0.000e+00 ... 5.000e+00 3.960e+03 0.000e+00]]\n"
     ]
    }
   ],
   "source": [
    "imp = IterativeImputer(max_iter=20, random_state=0)\n",
    "imp.fit(df1)\n",
    "df2=np.round(imp.transform(df1))\n",
    "IterativeImputer(random_state=0)\n",
    "# the model learns that the second feature is double the first\n",
    "print(np.round(imp.transform(df1)))\n",
    "imp.fit(dft1)\n",
    "dft2=np.round(imp.transform(dft1))"
   ]
  },
  {
   "cell_type": "code",
   "execution_count": 12,
   "id": "ead0d059",
   "metadata": {},
   "outputs": [],
   "source": [
    "df3 = pd.DataFrame(df2,columns=df.columns)\n",
    "dft3 = pd.DataFrame(dft2,columns=['mvar1', 'mvar2', 'mvar3', 'mvar4', 'mvar5', 'mvar6', 'mvar7', 'mvar8',\n",
    "       'mvar9', 'mvar10', 'mvar11', 'mvar12', 'mvar13', 'mvar14', 'mvar15',\n",
    "       'mvar16', 'mvar17', 'mvar18', 'mvar19', 'mvar20', 'mvar21', 'mvar22',\n",
    "       'mvar23', 'mvar24', 'mvar25', 'mvar26', 'mvar27', 'mvar28', 'mvar29',\n",
    "       'mvar30', 'mvar31', 'mvar32', 'mvar33', 'mvar34', 'mvar35', 'mvar36',\n",
    "       'mvar37', 'mvar38', 'mvar39', 'mvar40', 'mvar41', 'mvar42', 'mvar43',\n",
    "       'mvar44', 'mvar45', 'mvar46', 'mvar47', 'mvar48', 'mvar49', 'mvar50',\n",
    "       'mvar51'])"
   ]
  },
  {
   "cell_type": "code",
   "execution_count": 13,
   "id": "3319f6e4",
   "metadata": {},
   "outputs": [],
   "source": [
    "df3.index=df1.index\n",
    "dft3.index=dft1.index"
   ]
  },
  {
   "cell_type": "code",
   "execution_count": 14,
   "id": "4623b373",
   "metadata": {},
   "outputs": [],
   "source": [
    "df3=df3.abs()\n",
    "dft3=dft3.abs()"
   ]
  },
  {
   "cell_type": "markdown",
   "id": "cc1d2d61",
   "metadata": {},
   "source": [
    "# Treatment"
   ]
  },
  {
   "cell_type": "code",
   "execution_count": 90,
   "id": "5afea4ab",
   "metadata": {},
   "outputs": [],
   "source": [
    "from sklearn.preprocessing import StandardScaler\n",
    "from pandas import DataFrame\n",
    "trans = StandardScaler()\n",
    "df3x = trans.fit_transform(df3x)\n",
    "# convert the array back to a dataframe\n",
    "df4x = pd.DataFrame(df3x, columns = ['mvar1', 'mvar2', 'mvar3', 'mvar4', 'mvar5', 'mvar6', 'mvar7', 'mvar8',\n",
    "       'mvar9', 'mvar10', 'mvar11', 'mvar12', 'mvar13', 'mvar14', 'mvar15',\n",
    "       'mvar16', 'mvar17', 'mvar18', 'mvar19', 'mvar20', 'mvar21', 'mvar22',\n",
    "       'mvar23', 'mvar24', 'mvar25', 'mvar26', 'mvar27', 'mvar28', 'mvar29',\n",
    "       'mvar30', 'mvar31', 'mvar32', 'mvar33', 'mvar34', 'mvar35', 'mvar36',\n",
    "       'mvar37', 'mvar38', 'mvar39', 'mvar40', 'mvar41', 'mvar42', 'mvar43',\n",
    "       'mvar44', 'mvar45', 'mvar46', 'mvar47', 'mvar48', 'mvar49', 'mvar50',\n",
    "       'mvar51'])"
   ]
  },
  {
   "cell_type": "code",
   "execution_count": 102,
   "id": "4b8d2f70",
   "metadata": {},
   "outputs": [],
   "source": [
    "df4=df4x\n",
    "df4['default_ind']=df1['default_ind'].copy()"
   ]
  },
  {
   "cell_type": "code",
   "execution_count": 187,
   "id": "3c5c431a",
   "metadata": {},
   "outputs": [],
   "source": [
    "dft3=dft3.abs()"
   ]
  },
  {
   "cell_type": "code",
   "execution_count": 188,
   "id": "c0ea85d9",
   "metadata": {},
   "outputs": [],
   "source": [
    "dft3 = trans.fit_transform(dft3)\n",
    "# convert the array back to a dataframe\n",
    "dft4 = pd.DataFrame(dft3, columns = ['mvar1', 'mvar2', 'mvar3', 'mvar4', 'mvar5', 'mvar6', 'mvar7', 'mvar8',\n",
    "       'mvar9', 'mvar10', 'mvar11', 'mvar12', 'mvar13', 'mvar14', 'mvar15',\n",
    "       'mvar16', 'mvar17', 'mvar18', 'mvar19', 'mvar20', 'mvar21', 'mvar22',\n",
    "       'mvar23', 'mvar24', 'mvar25', 'mvar26', 'mvar27', 'mvar28', 'mvar29',\n",
    "       'mvar30', 'mvar31', 'mvar32', 'mvar33', 'mvar34', 'mvar35', 'mvar36',\n",
    "       'mvar37', 'mvar38', 'mvar39', 'mvar40', 'mvar41', 'mvar42', 'mvar43',\n",
    "       'mvar44', 'mvar45', 'mvar46', 'mvar47', 'mvar48', 'mvar49', 'mvar50',\n",
    "       'mvar51'])"
   ]
  },
  {
   "cell_type": "code",
   "execution_count": 28,
   "id": "92adc74b",
   "metadata": {
    "scrolled": false
   },
   "outputs": [
    {
     "data": {
      "image/png": "[encoded data removed]",
      "text/plain": [
       "<Figure size 1200x800 with 1 Axes>"
      ]
     },
     "metadata": {},
     "output_type": "display_data"
    }
   ],
   "source": [
    "sns.countplot(x ='default_ind', data = df3)\n",
    "# plt.xticks(rotation=0, fontsize=13)\n",
    "plt.title('Number of non-defaults and defaults',fontsize=13)\n",
    "# plt.legend([\"unacc\",\"acc\",\"good\",'vgood'], loc=\"upper left\",fontsize=12, ncol=2, frameon=False)\n",
    "plt.xlabel('Non-Defaults and Defaults',fontsize=13)\n",
    "plt.ylabel('Count',fontsize=13)\n",
    "plt.show()"
   ]
  },
  {
   "cell_type": "markdown",
   "id": "338c87ff",
   "metadata": {},
   "source": [
    "# Model"
   ]
  },
  {
   "cell_type": "markdown",
   "id": "f464afde",
   "metadata": {},
   "source": [
    "## Input and Output Matrix"
   ]
  },
  {
   "cell_type": "code",
   "execution_count": 85,
   "id": "ef9d7d67",
   "metadata": {},
   "outputs": [],
   "source": [
    "X = df3.drop(['default_ind'],axis=1) \n",
    "y = df3['default_ind']\n",
    "X_given = dft3"
   ]
  },
  {
   "cell_type": "code",
   "execution_count": 87,
   "id": "2c2abd24",
   "metadata": {},
   "outputs": [],
   "source": [
    "import gc\n",
    "\n",
    "from catboost import Pool\n",
    "import catboost as ctb\n",
    "from catboost import *\n",
    "import lightgbm as lgb\n",
    "import xgboost as xgb\n",
    "\n",
    "\n",
    "import shap\n",
    "from sklearn import metrics\n",
    "from time import time\n",
    "\n",
    "import os\n",
    "import sklearn\n",
    "from sklearn.preprocessing import LabelEncoder\n",
    "from sklearn.model_selection import train_test_split,RandomizedSearchCV, StratifiedKFold\n",
    "from sklearn.metrics import accuracy_score, f1_score, recall_score, confusion_matrix,mean_absolute_error\n",
    "from sklearn.metrics import accuracy_score, precision_score, recall_score, f1_score,confusion_matrix\n",
    "\n",
    "from hyperopt import hp\n",
    "from hyperopt import fmin, tpe, STATUS_OK, STATUS_FAIL, Trials"
   ]
  },
  {
   "cell_type": "code",
   "execution_count": 88,
   "id": "2d85228c",
   "metadata": {},
   "outputs": [],
   "source": [
    "from sklearn.model_selection import train_test_split, cross_val_score\n",
    "from sklearn.metrics import accuracy_score, classification_report, precision_score, recall_score \n",
    "from sklearn.metrics import confusion_matrix, precision_recall_curve, roc_curve, auc, log_loss, f1_score"
   ]
  },
  {
   "cell_type": "markdown",
   "id": "f9609554",
   "metadata": {},
   "source": [
    "## Train Test Split"
   ]
  },
  {
   "cell_type": "code",
   "execution_count": 89,
   "id": "2659a1d9",
   "metadata": {},
   "outputs": [],
   "source": [
    "# getting data ready to build model\n",
    "X_train, X_test, y_train, y_test = train_test_split(X, y,\n",
    "                                                    test_size=0.25,\n",
    "                                                    random_state=42,\n",
    "                                                    shuffle=True)\n"
   ]
  },
  {
   "cell_type": "code",
   "execution_count": 90,
   "id": "9b5c2f00",
   "metadata": {},
   "outputs": [],
   "source": [
    "#define parameter range\n",
    "learning_rate=np.linspace(0.01,0.1,40)\n",
    "max_depth=np.arange(2, 18, 1)\n",
    "colsample_bylevel=np.arange(0.3, 0.8, 0.025)\n",
    "iterations=np.arange(50, 1000, 10)\n",
    "l2_leaf_reg=np.arange(0,10)\n",
    "bagging_temperature=np.arange(0,100,10)\n",
    "n_estimators=np.arange(50,500,10)"
   ]
  },
  {
   "cell_type": "markdown",
   "id": "b1df6bc9",
   "metadata": {},
   "source": [
    "# Hyper Parameter Optimization"
   ]
  },
  {
   "cell_type": "code",
   "execution_count": 91,
   "id": "9764b11a",
   "metadata": {},
   "outputs": [],
   "source": [
    "#Define parameter space, fit conditions, loss function\n",
    "\n",
    "# XGB parameters\n",
    "xgb_cat_params = {\n",
    "    'learning_rate':    hp.choice('learning_rate',    learning_rate),\n",
    "    'max_depth':        hp.choice('max_depth',         max_depth),\n",
    "    'colsample_bytree': hp.choice('colsample_bytree', colsample_bylevel),\n",
    "    'n_estimators':     hp.choice('n_estimators',    n_estimators),\n",
    "    'loss_function':       'logloss',\n",
    "    'nan_mode':'Min',\n",
    "    'task_type':'GPU'\n",
    "}\n",
    "xgb_fit_params = {\n",
    "    'eval_metric': 'logloss',\n",
    "    'early_stopping_rounds': 10,\n",
    "    'verbose': False\n",
    "}\n",
    "xgb_para = dict()\n",
    "xgb_para['cls_params'] = xgb_cat_params\n",
    "xgb_para['fit_params'] = xgb_fit_params\n",
    "xgb_para['loss_func' ] = lambda y, pred: np.sqrt(mean_squared_error(y, pred))\n",
    "\n",
    "\n",
    "# LightGBM parameters\n",
    "lgb_cat_params = {\n",
    "    'learning_rate':    hp.choice('learning_rate',    learning_rate),\n",
    "    'max_depth':        hp.choice('max_depth',        max_depth),\n",
    "    'colsample_bytree': hp.choice('colsample_bytree', colsample_bylevel),\n",
    "    'n_estimators':     hp.choice('n_estimators',    n_estimators),\n",
    "    'loss_function':       'CrossEntropy',\n",
    "    'nan_mode':'Min'\n",
    "}\n",
    "lgb_fit_params = {\n",
    "    'eval_metric': 'CrossEntropy',\n",
    "    'early_stopping_rounds': 10,\n",
    "    'verbose': False\n",
    "}\n",
    "lgb_para = dict()\n",
    "lgb_para['cls_params'] = lgb_cat_params\n",
    "lgb_para['fit_params'] = lgb_fit_params\n",
    "lgb_para['loss_func' ] = lambda y, pred: np.sqrt(mean_squared_error(y, pred))\n",
    "\n"
   ]
  },
  {
   "cell_type": "code",
   "execution_count": 92,
   "id": "65d69ffa",
   "metadata": {},
   "outputs": [],
   "source": [
    "#define Hyperopt class\n",
    "class HPOpt(object):\n",
    "\n",
    "    def __init__(self, x_train, x_test, y_train, y_test):\n",
    "        self.x_train = x_train\n",
    "        self.x_test  = x_test\n",
    "        self.y_train = y_train\n",
    "        self.y_test  = y_test\n",
    "\n",
    "    def process(self, fn_name, space, trials, algo, max_evals):\n",
    "        fn = getattr(self, fn_name)\n",
    "        try:\n",
    "            print('entering fmin')\n",
    "            result = fmin(fn=fn, space=space, algo=algo, max_evals=max_evals, trials=trials)\n",
    "        except Exception as e:\n",
    "            return {'status': STATUS_FAIL,\n",
    "                    'exception': str(e)}\n",
    "        return result\n",
    "\n",
    "    def ctb_cls(self, para):\n",
    "        cls = ctb.CatBoostClassifier(**para['cls_params'])\n",
    "        print('ctb initialized')\n",
    "        return self.train_cls(cls, para)\n",
    "    \n",
    "    def xgb_cls(self, para):\n",
    "        cls = xgb.XGBClassifier(**para['cls_params'])\n",
    "        print('ctb initialized')\n",
    "        return self.train_cls(cls, para)\n",
    "    \n",
    "    def lgb_cls(self, para):\n",
    "        cls = lgb.LGBMClassifier(**para['cls_params'])\n",
    "        print('ctb initialized')\n",
    "        return self.train_cls(cls, para)\n",
    "\n",
    "    def train_cls(self, cls, para):\n",
    "        print('fitting model')\n",
    "        cls.fit(self.x_train, self.y_train,\n",
    "                eval_set=[(self.x_test, self.y_test)],\n",
    "                **para['fit_params'])\n",
    "        print('model fitted')\n",
    "        pred = cls.predict(self.x_test)\n",
    "        #loss = para['loss_func'](self.y_test, pred)\n",
    "        f1=sklearn.metrics.f1_score(self.y_test,pred)\n",
    "        f1=f1*(-1)\n",
    "        print(f1)\n",
    "        return {'loss': f1, 'status': STATUS_OK}"
   ]
  },
  {
   "cell_type": "code",
   "execution_count": 93,
   "id": "d87dea8a",
   "metadata": {},
   "outputs": [],
   "source": [
    "#calling the Catboost function by passing catboost parameter space \n",
    "obj = HPOpt(X_train, X_test, y_train, y_test)\n",
    "# ctb_opt = obj.process(fn_name='ctb_cls', space=ctb_para, trials=Trials(), algo=tpe.suggest, max_evals=2)"
   ]
  },
  {
   "cell_type": "code",
   "execution_count": 94,
   "id": "746cd63d",
   "metadata": {},
   "outputs": [
    {
     "name": "stdout",
     "output_type": "stream",
     "text": [
      "entering fmin\n",
      "ctb initialized                                                                                                        \n",
      "fitting model                                                                                                          \n",
      "[LightGBM] [Warning] Unknown parameter: loss_function                                                                  \n",
      "[LightGBM] [Warning] Unknown parameter: nan_mode                                                                       \n",
      "  0%|                                                                            | 0/2 [00:00<?, ?trial/s, best loss=?]"
     ]
    },
    {
     "name": "stderr",
     "output_type": "stream",
     "text": [
      "'early_stopping_rounds' argument is deprecated and will be removed in a future release of LightGBM. Pass 'early_stopping()' callback via 'callbacks' argument instead.\n",
      "\n",
      "'verbose' argument is deprecated and will be removed in a future release of LightGBM. Pass 'log_evaluation()' callback via 'callbacks' argument instead.\n",
      "\n"
     ]
    },
    {
     "name": "stdout",
     "output_type": "stream",
     "text": [
      "model fitted                                                                                                           \n",
      "-0.5597560975609757                                                                                                    \n",
      "ctb initialized                                                                                                        \n",
      "fitting model                                                                                                          \n",
      "[LightGBM] [Warning] Unknown parameter: loss_function                                                                  \n",
      "[LightGBM] [Warning] Unknown parameter: nan_mode                                                                       \n",
      " 50%|████████████████████████▌                        | 1/2 [00:01<00:01,  1.72s/trial, best loss: -0.5597560975609757]"
     ]
    },
    {
     "name": "stderr",
     "output_type": "stream",
     "text": [
      "'early_stopping_rounds' argument is deprecated and will be removed in a future release of LightGBM. Pass 'early_stopping()' callback via 'callbacks' argument instead.\n",
      "\n",
      "'verbose' argument is deprecated and will be removed in a future release of LightGBM. Pass 'log_evaluation()' callback via 'callbacks' argument instead.\n",
      "\n"
     ]
    },
    {
     "name": "stdout",
     "output_type": "stream",
     "text": [
      "model fitted                                                                                                           \n",
      "-0.5573271047019397                                                                                                    \n",
      "100%|█████████████████████████████████████████████████| 2/2 [00:03<00:00,  1.80s/trial, best loss: -0.5597560975609757]\n"
     ]
    }
   ],
   "source": [
    "#calling the LGBM function by passing LGBM parameter space \n",
    "#obj = HPOpt(X_train, X_test, y_train, y_test)\n",
    "lgb_opt = obj.process(fn_name='lgb_cls', space=lgb_para, trials=Trials(), algo=tpe.suggest, max_evals=2)"
   ]
  },
  {
   "cell_type": "code",
   "execution_count": 95,
   "id": "68ab53fa",
   "metadata": {},
   "outputs": [
    {
     "data": {
      "text/plain": [
       "{'colsample_bytree': 11,\n",
       " 'learning_rate': 31,\n",
       " 'max_depth': 13,\n",
       " 'n_estimators': 39}"
      ]
     },
     "execution_count": 95,
     "metadata": {},
     "output_type": "execute_result"
    }
   ],
   "source": [
    "#output of the hyperopt is the indexes of the best parameters\n",
    "lgb_opt"
   ]
  },
  {
   "cell_type": "code",
   "execution_count": 96,
   "id": "ad709f88",
   "metadata": {},
   "outputs": [],
   "source": [
    "#Save best parameters in a dictionary\n",
    "best_param_lgb={}\n",
    "best_param_lgb['learning_rate']=learning_rate[lgb_opt['learning_rate']]\n",
    "best_param_lgb['colsample_bytree']=colsample_bylevel[lgb_opt['colsample_bytree']]\n",
    "best_param_lgb['max_depth']=max_depth[lgb_opt['max_depth']]\n",
    "best_param_lgb['n_estimators']=n_estimators[lgb_opt['n_estimators']]"
   ]
  },
  {
   "cell_type": "code",
   "execution_count": 97,
   "id": "8ed5d194",
   "metadata": {},
   "outputs": [
    {
     "data": {
      "text/plain": [
       "{'learning_rate': 0.08153846153846155,\n",
       " 'colsample_bytree': 0.5750000000000002,\n",
       " 'max_depth': 15,\n",
       " 'n_estimators': 440}"
      ]
     },
     "execution_count": 97,
     "metadata": {},
     "output_type": "execute_result"
    }
   ],
   "source": [
    "#dictionary has the actual  hyperparameters\n",
    "best_param_lgb"
   ]
  },
  {
   "cell_type": "code",
   "execution_count": 98,
   "id": "1f903bef",
   "metadata": {},
   "outputs": [
    {
     "name": "stdout",
     "output_type": "stream",
     "text": [
      "entering fmin\n",
      "ctb initialized                                                                                                        \n",
      "fitting model                                                                                                          \n",
      "[17:41:40] WARNING: C:/Users/Administrator/workspace/xgboost-win64_release_1.5.1/src/learner.cc:576:                   \n",
      "Parameters: { \"loss_function\", \"nan_mode\", \"task_type\" } might not be used.\n",
      "\n",
      "  This could be a false alarm, with some parameters getting used by language bindings but\n",
      "  then being mistakenly passed down to XGBoost core, or some parameter actually being used\n",
      "  but getting flagged wrongly here. Please open an issue if you find any such cases.\n",
      "\n",
      "\n",
      "  0%|                                                                            | 0/2 [00:00<?, ?trial/s, best loss=?]"
     ]
    },
    {
     "name": "stderr",
     "output_type": "stream",
     "text": [
      "The use of label encoder in XGBClassifier is deprecated and will be removed in a future release. To remove this warning, do the following: 1) Pass option use_label_encoder=False when constructing XGBClassifier object; and 2) Encode your labels (y) as integers starting with 0, i.e. 0, 1, 2, ..., [num_class - 1].\n",
      "\n",
      "pandas.Int64Index is deprecated and will be removed from pandas in a future version. Use pandas.Index with the appropriate dtype instead.\n",
      "\n"
     ]
    },
    {
     "name": "stdout",
     "output_type": "stream",
     "text": [
      "model fitted                                                                                                           \n",
      "-0.5388108564790368                                                                                                    \n",
      "ctb initialized                                                                                                        \n",
      "fitting model                                                                                                          \n",
      "[17:41:58] WARNING: C:/Users/Administrator/workspace/xgboost-win64_release_1.5.1/src/learner.cc:576:                   \n",
      "Parameters: { \"loss_function\", \"nan_mode\", \"task_type\" } might not be used.\n",
      "\n",
      "  This could be a false alarm, with some parameters getting used by language bindings but\n",
      "  then being mistakenly passed down to XGBoost core, or some parameter actually being used\n",
      "  but getting flagged wrongly here. Please open an issue if you find any such cases.\n",
      "\n",
      "\n",
      " 50%|████████████████████████▌                        | 1/2 [00:18<00:18, 18.58s/trial, best loss: -0.5388108564790368]"
     ]
    },
    {
     "name": "stderr",
     "output_type": "stream",
     "text": [
      "The use of label encoder in XGBClassifier is deprecated and will be removed in a future release. To remove this warning, do the following: 1) Pass option use_label_encoder=False when constructing XGBClassifier object; and 2) Encode your labels (y) as integers starting with 0, i.e. 0, 1, 2, ..., [num_class - 1].\n",
      "\n",
      "pandas.Int64Index is deprecated and will be removed from pandas in a future version. Use pandas.Index with the appropriate dtype instead.\n",
      "\n"
     ]
    },
    {
     "name": "stdout",
     "output_type": "stream",
     "text": [
      "model fitted                                                                                                           \n",
      "-0.5426518071034268                                                                                                    \n",
      "100%|█████████████████████████████████████████████████| 2/2 [00:38<00:00, 19.16s/trial, best loss: -0.5426518071034268]\n"
     ]
    }
   ],
   "source": [
    "#calling the XGBoost function by passing XGB parameter space \n",
    "xgb_opt = obj.process(fn_name='xgb_cls', space=xgb_para, trials=Trials(), algo=tpe.suggest, max_evals=2)"
   ]
  },
  {
   "cell_type": "code",
   "execution_count": 99,
   "id": "90805754",
   "metadata": {},
   "outputs": [
    {
     "data": {
      "text/plain": [
       "{'colsample_bytree': 0,\n",
       " 'learning_rate': 11,\n",
       " 'max_depth': 11,\n",
       " 'n_estimators': 44}"
      ]
     },
     "execution_count": 99,
     "metadata": {},
     "output_type": "execute_result"
    }
   ],
   "source": [
    "#checking the output of hyperopt\n",
    "xgb_opt"
   ]
  },
  {
   "cell_type": "code",
   "execution_count": 100,
   "id": "443c2217",
   "metadata": {},
   "outputs": [],
   "source": [
    "#Save best parameters in a dictionary\n",
    "best_param_xgb={}\n",
    "best_param_xgb['learning_rate']=learning_rate[xgb_opt['learning_rate']]\n",
    "best_param_xgb['colsample_bytree']=colsample_bylevel[xgb_opt['colsample_bytree']]\n",
    "best_param_xgb['max_depth']=max_depth[xgb_opt['max_depth']]\n",
    "best_param_xgb['n_estimators']=n_estimators[xgb_opt['n_estimators']]"
   ]
  },
  {
   "cell_type": "code",
   "execution_count": 101,
   "id": "1f271d22",
   "metadata": {},
   "outputs": [
    {
     "data": {
      "text/plain": [
       "{'learning_rate': 0.03538461538461539,\n",
       " 'colsample_bytree': 0.3,\n",
       " 'max_depth': 13,\n",
       " 'n_estimators': 490}"
      ]
     },
     "execution_count": 101,
     "metadata": {},
     "output_type": "execute_result"
    }
   ],
   "source": [
    "best_param_xgb"
   ]
  },
  {
   "cell_type": "code",
   "execution_count": 102,
   "id": "5ac84ea5",
   "metadata": {},
   "outputs": [],
   "source": [
    "#build model with the best hyperparameters\n",
    "model_lgb=lgb.LGBMClassifier(n_estimators=best_param_lgb['n_estimators'], \n",
    "                             depth=best_param_lgb['max_depth'],\n",
    "                             learning_rate=best_param_lgb['learning_rate'],\n",
    "                             colsample_bytree=best_param_lgb['colsample_bytree'],\n",
    "                            loss_function='logloss',\n",
    "                             nan_mode='Min',\n",
    "                            #task_type='GPU',\n",
    "                             \n",
    "                            random_seed=42\n",
    "                            )"
   ]
  },
  {
   "cell_type": "code",
   "execution_count": 103,
   "id": "69055ad6",
   "metadata": {},
   "outputs": [
    {
     "name": "stdout",
     "output_type": "stream",
     "text": [
      "[LightGBM] [Warning] Unknown parameter: loss_function\n",
      "[LightGBM] [Warning] Unknown parameter: depth\n",
      "[LightGBM] [Warning] Unknown parameter: nan_mode\n"
     ]
    },
    {
     "data": {
      "text/html": [
       "<style>#sk-container-id-5 {color: black;background-color: white;}#sk-container-id-5 pre{padding: 0;}#sk-container-id-5 div.sk-toggleable {background-color: white;}#sk-container-id-5 label.sk-toggleable__label {cursor: pointer;display: block;width: 100%;margin-bottom: 0;padding: 0.3em;box-sizing: border-box;text-align: center;}#sk-container-id-5 label.sk-toggleable__label-arrow:before {content: \"▸\";float: left;margin-right: 0.25em;color: #696969;}#sk-container-id-5 label.sk-toggleable__label-arrow:hover:before {color: black;}#sk-container-id-5 div.sk-estimator:hover label.sk-toggleable__label-arrow:before {color: black;}#sk-container-id-5 div.sk-toggleable__content {max-height: 0;max-width: 0;overflow: hidden;text-align: left;background-color: #f0f8ff;}#sk-container-id-5 div.sk-toggleable__content pre {margin: 0.2em;color: black;border-radius: 0.25em;background-color: #f0f8ff;}#sk-container-id-5 input.sk-toggleable__control:checked~div.sk-toggleable__content {max-height: 200px;max-width: 100%;overflow: auto;}#sk-container-id-5 input.sk-toggleable__control:checked~label.sk-toggleable__label-arrow:before {content: \"▾\";}#sk-container-id-5 div.sk-estimator input.sk-toggleable__control:checked~label.sk-toggleable__label {background-color: #d4ebff;}#sk-container-id-5 div.sk-label input.sk-toggleable__control:checked~label.sk-toggleable__label {background-color: #d4ebff;}#sk-container-id-5 input.sk-hidden--visually {border: 0;clip: rect(1px 1px 1px 1px);clip: rect(1px, 1px, 1px, 1px);height: 1px;margin: -1px;overflow: hidden;padding: 0;position: absolute;width: 1px;}#sk-container-id-5 div.sk-estimator {font-family: monospace;background-color: #f0f8ff;border: 1px dotted black;border-radius: 0.25em;box-sizing: border-box;margin-bottom: 0.5em;}#sk-container-id-5 div.sk-estimator:hover {background-color: #d4ebff;}#sk-container-id-5 div.sk-parallel-item::after {content: \"\";width: 100%;border-bottom: 1px solid gray;flex-grow: 1;}#sk-container-id-5 div.sk-label:hover label.sk-toggleable__label {background-color: #d4ebff;}#sk-container-id-5 div.sk-serial::before {content: \"\";position: absolute;border-left: 1px solid gray;box-sizing: border-box;top: 0;bottom: 0;left: 50%;z-index: 0;}#sk-container-id-5 div.sk-serial {display: flex;flex-direction: column;align-items: center;background-color: white;padding-right: 0.2em;padding-left: 0.2em;position: relative;}#sk-container-id-5 div.sk-item {position: relative;z-index: 1;}#sk-container-id-5 div.sk-parallel {display: flex;align-items: stretch;justify-content: center;background-color: white;position: relative;}#sk-container-id-5 div.sk-item::before, #sk-container-id-5 div.sk-parallel-item::before {content: \"\";position: absolute;border-left: 1px solid gray;box-sizing: border-box;top: 0;bottom: 0;left: 50%;z-index: -1;}#sk-container-id-5 div.sk-parallel-item {display: flex;flex-direction: column;z-index: 1;position: relative;background-color: white;}#sk-container-id-5 div.sk-parallel-item:first-child::after {align-self: flex-end;width: 50%;}#sk-container-id-5 div.sk-parallel-item:last-child::after {align-self: flex-start;width: 50%;}#sk-container-id-5 div.sk-parallel-item:only-child::after {width: 0;}#sk-container-id-5 div.sk-dashed-wrapped {border: 1px dashed gray;margin: 0 0.4em 0.5em 0.4em;box-sizing: border-box;padding-bottom: 0.4em;background-color: white;}#sk-container-id-5 div.sk-label label {font-family: monospace;font-weight: bold;display: inline-block;line-height: 1.2em;}#sk-container-id-5 div.sk-label-container {text-align: center;}#sk-container-id-5 div.sk-container {/* jupyter's `normalize.less` sets `[hidden] { display: none; }` but bootstrap.min.css set `[hidden] { display: none !important; }` so we also need the `!important` here to be able to override the default hidden behavior on the sphinx rendered scikit-learn.org. See: https://github.com/scikit-learn/scikit-learn/issues/21755 */display: inline-block !important;position: relative;}#sk-container-id-5 div.sk-text-repr-fallback {display: none;}</style><div id=\"sk-container-id-5\" class=\"sk-top-container\"><div class=\"sk-text-repr-fallback\"><pre>LGBMClassifier(colsample_bytree=0.5750000000000002, depth=15,\n",
       "               learning_rate=0.08153846153846155, loss_function=&#x27;logloss&#x27;,\n",
       "               n_estimators=440, nan_mode=&#x27;Min&#x27;, random_seed=42)</pre><b>In a Jupyter environment, please rerun this cell to show the HTML representation or trust the notebook. <br />On GitHub, the HTML representation is unable to render, please try loading this page with nbviewer.org.</b></div><div class=\"sk-container\" hidden><div class=\"sk-item\"><div class=\"sk-estimator sk-toggleable\"><input class=\"sk-toggleable__control sk-hidden--visually\" id=\"sk-estimator-id-5\" type=\"checkbox\" checked><label for=\"sk-estimator-id-5\" class=\"sk-toggleable__label sk-toggleable__label-arrow\">LGBMClassifier</label><div class=\"sk-toggleable__content\"><pre>LGBMClassifier(colsample_bytree=0.5750000000000002, depth=15,\n",
       "               learning_rate=0.08153846153846155, loss_function=&#x27;logloss&#x27;,\n",
       "               n_estimators=440, nan_mode=&#x27;Min&#x27;, random_seed=42)</pre></div></div></div></div></div>"
      ],
      "text/plain": [
       "LGBMClassifier(colsample_bytree=0.5750000000000002, depth=15,\n",
       "               learning_rate=0.08153846153846155, loss_function='logloss',\n",
       "               n_estimators=440, nan_mode='Min', random_seed=42)"
      ]
     },
     "execution_count": 103,
     "metadata": {},
     "output_type": "execute_result"
    }
   ],
   "source": [
    "model_lgb.fit(X_train,y_train, eval_set=None)"
   ]
  },
  {
   "cell_type": "code",
   "execution_count": 104,
   "id": "420508e9",
   "metadata": {},
   "outputs": [],
   "source": [
    "#build model with the best hyperparameters\n",
    "model_xgb=xgb.XGBClassifier(n_estimators=best_param_xgb['n_estimators'], \n",
    "                             depth=best_param_xgb['max_depth'],\n",
    "                             learning_rate=best_param_xgb['learning_rate'],\n",
    "                             colsample_bytree=best_param_xgb['colsample_bytree'],\n",
    "                            loss_function='logloss',\n",
    "                             nan_mode='Min',\n",
    "                            task_type='GPU',\n",
    "                             \n",
    "                            random_seed=42\n",
    "                            )"
   ]
  },
  {
   "cell_type": "code",
   "execution_count": 105,
   "id": "76df6551",
   "metadata": {},
   "outputs": [
    {
     "name": "stderr",
     "output_type": "stream",
     "text": [
      "The use of label encoder in XGBClassifier is deprecated and will be removed in a future release. To remove this warning, do the following: 1) Pass option use_label_encoder=False when constructing XGBClassifier object; and 2) Encode your labels (y) as integers starting with 0, i.e. 0, 1, 2, ..., [num_class - 1].\n",
      "pandas.Int64Index is deprecated and will be removed from pandas in a future version. Use pandas.Index with the appropriate dtype instead.\n"
     ]
    },
    {
     "name": "stdout",
     "output_type": "stream",
     "text": [
      "[17:42:20] WARNING: C:/Users/Administrator/workspace/xgboost-win64_release_1.5.1/src/learner.cc:576: \n",
      "Parameters: { \"depth\", \"loss_function\", \"nan_mode\", \"random_seed\", \"task_type\" } might not be used.\n",
      "\n",
      "  This could be a false alarm, with some parameters getting used by language bindings but\n",
      "  then being mistakenly passed down to XGBoost core, or some parameter actually being used\n",
      "  but getting flagged wrongly here. Please open an issue if you find any such cases.\n",
      "\n",
      "\n",
      "[17:42:20] WARNING: C:/Users/Administrator/workspace/xgboost-win64_release_1.5.1/src/learner.cc:1115: Starting in XGBoost 1.3.0, the default evaluation metric used with the objective 'binary:logistic' was changed from 'error' to 'logloss'. Explicitly set eval_metric if you'd like to restore the old behavior.\n"
     ]
    },
    {
     "data": {
      "text/html": [
       "<style>#sk-container-id-6 {color: black;background-color: white;}#sk-container-id-6 pre{padding: 0;}#sk-container-id-6 div.sk-toggleable {background-color: white;}#sk-container-id-6 label.sk-toggleable__label {cursor: pointer;display: block;width: 100%;margin-bottom: 0;padding: 0.3em;box-sizing: border-box;text-align: center;}#sk-container-id-6 label.sk-toggleable__label-arrow:before {content: \"▸\";float: left;margin-right: 0.25em;color: #696969;}#sk-container-id-6 label.sk-toggleable__label-arrow:hover:before {color: black;}#sk-container-id-6 div.sk-estimator:hover label.sk-toggleable__label-arrow:before {color: black;}#sk-container-id-6 div.sk-toggleable__content {max-height: 0;max-width: 0;overflow: hidden;text-align: left;background-color: #f0f8ff;}#sk-container-id-6 div.sk-toggleable__content pre {margin: 0.2em;color: black;border-radius: 0.25em;background-color: #f0f8ff;}#sk-container-id-6 input.sk-toggleable__control:checked~div.sk-toggleable__content {max-height: 200px;max-width: 100%;overflow: auto;}#sk-container-id-6 input.sk-toggleable__control:checked~label.sk-toggleable__label-arrow:before {content: \"▾\";}#sk-container-id-6 div.sk-estimator input.sk-toggleable__control:checked~label.sk-toggleable__label {background-color: #d4ebff;}#sk-container-id-6 div.sk-label input.sk-toggleable__control:checked~label.sk-toggleable__label {background-color: #d4ebff;}#sk-container-id-6 input.sk-hidden--visually {border: 0;clip: rect(1px 1px 1px 1px);clip: rect(1px, 1px, 1px, 1px);height: 1px;margin: -1px;overflow: hidden;padding: 0;position: absolute;width: 1px;}#sk-container-id-6 div.sk-estimator {font-family: monospace;background-color: #f0f8ff;border: 1px dotted black;border-radius: 0.25em;box-sizing: border-box;margin-bottom: 0.5em;}#sk-container-id-6 div.sk-estimator:hover {background-color: #d4ebff;}#sk-container-id-6 div.sk-parallel-item::after {content: \"\";width: 100%;border-bottom: 1px solid gray;flex-grow: 1;}#sk-container-id-6 div.sk-label:hover label.sk-toggleable__label {background-color: #d4ebff;}#sk-container-id-6 div.sk-serial::before {content: \"\";position: absolute;border-left: 1px solid gray;box-sizing: border-box;top: 0;bottom: 0;left: 50%;z-index: 0;}#sk-container-id-6 div.sk-serial {display: flex;flex-direction: column;align-items: center;background-color: white;padding-right: 0.2em;padding-left: 0.2em;position: relative;}#sk-container-id-6 div.sk-item {position: relative;z-index: 1;}#sk-container-id-6 div.sk-parallel {display: flex;align-items: stretch;justify-content: center;background-color: white;position: relative;}#sk-container-id-6 div.sk-item::before, #sk-container-id-6 div.sk-parallel-item::before {content: \"\";position: absolute;border-left: 1px solid gray;box-sizing: border-box;top: 0;bottom: 0;left: 50%;z-index: -1;}#sk-container-id-6 div.sk-parallel-item {display: flex;flex-direction: column;z-index: 1;position: relative;background-color: white;}#sk-container-id-6 div.sk-parallel-item:first-child::after {align-self: flex-end;width: 50%;}#sk-container-id-6 div.sk-parallel-item:last-child::after {align-self: flex-start;width: 50%;}#sk-container-id-6 div.sk-parallel-item:only-child::after {width: 0;}#sk-container-id-6 div.sk-dashed-wrapped {border: 1px dashed gray;margin: 0 0.4em 0.5em 0.4em;box-sizing: border-box;padding-bottom: 0.4em;background-color: white;}#sk-container-id-6 div.sk-label label {font-family: monospace;font-weight: bold;display: inline-block;line-height: 1.2em;}#sk-container-id-6 div.sk-label-container {text-align: center;}#sk-container-id-6 div.sk-container {/* jupyter's `normalize.less` sets `[hidden] { display: none; }` but bootstrap.min.css set `[hidden] { display: none !important; }` so we also need the `!important` here to be able to override the default hidden behavior on the sphinx rendered scikit-learn.org. See: https://github.com/scikit-learn/scikit-learn/issues/21755 */display: inline-block !important;position: relative;}#sk-container-id-6 div.sk-text-repr-fallback {display: none;}</style><div id=\"sk-container-id-6\" class=\"sk-top-container\"><div class=\"sk-text-repr-fallback\"><pre>XGBClassifier(base_score=0.5, booster=&#x27;gbtree&#x27;, colsample_bylevel=1,\n",
       "              colsample_bynode=1, colsample_bytree=0.3, depth=13,\n",
       "              enable_categorical=False, gamma=0, gpu_id=-1,\n",
       "              importance_type=None, interaction_constraints=&#x27;&#x27;,\n",
       "              learning_rate=0.03538461538461539, loss_function=&#x27;logloss&#x27;,\n",
       "              max_delta_step=0, max_depth=6, min_child_weight=1, missing=nan,\n",
       "              monotone_constraints=&#x27;()&#x27;, n_estimators=490, n_jobs=12,\n",
       "              nan_mode=&#x27;Min&#x27;, num_parallel_tree=1, predictor=&#x27;auto&#x27;,\n",
       "              random_seed=42, random_state=0, reg_alpha=0, reg_lambda=1,\n",
       "              scale_pos_weight=1, subsample=1, task_type=&#x27;GPU&#x27;, ...)</pre><b>In a Jupyter environment, please rerun this cell to show the HTML representation or trust the notebook. <br />On GitHub, the HTML representation is unable to render, please try loading this page with nbviewer.org.</b></div><div class=\"sk-container\" hidden><div class=\"sk-item\"><div class=\"sk-estimator sk-toggleable\"><input class=\"sk-toggleable__control sk-hidden--visually\" id=\"sk-estimator-id-6\" type=\"checkbox\" checked><label for=\"sk-estimator-id-6\" class=\"sk-toggleable__label sk-toggleable__label-arrow\">XGBClassifier</label><div class=\"sk-toggleable__content\"><pre>XGBClassifier(base_score=0.5, booster=&#x27;gbtree&#x27;, colsample_bylevel=1,\n",
       "              colsample_bynode=1, colsample_bytree=0.3, depth=13,\n",
       "              enable_categorical=False, gamma=0, gpu_id=-1,\n",
       "              importance_type=None, interaction_constraints=&#x27;&#x27;,\n",
       "              learning_rate=0.03538461538461539, loss_function=&#x27;logloss&#x27;,\n",
       "              max_delta_step=0, max_depth=6, min_child_weight=1, missing=nan,\n",
       "              monotone_constraints=&#x27;()&#x27;, n_estimators=490, n_jobs=12,\n",
       "              nan_mode=&#x27;Min&#x27;, num_parallel_tree=1, predictor=&#x27;auto&#x27;,\n",
       "              random_seed=42, random_state=0, reg_alpha=0, reg_lambda=1,\n",
       "              scale_pos_weight=1, subsample=1, task_type=&#x27;GPU&#x27;, ...)</pre></div></div></div></div></div>"
      ],
      "text/plain": [
       "XGBClassifier(base_score=0.5, booster='gbtree', colsample_bylevel=1,\n",
       "              colsample_bynode=1, colsample_bytree=0.3, depth=13,\n",
       "              enable_categorical=False, gamma=0, gpu_id=-1,\n",
       "              importance_type=None, interaction_constraints='',\n",
       "              learning_rate=0.03538461538461539, loss_function='logloss',\n",
       "              max_delta_step=0, max_depth=6, min_child_weight=1, missing=nan,\n",
       "              monotone_constraints='()', n_estimators=490, n_jobs=12,\n",
       "              nan_mode='Min', num_parallel_tree=1, predictor='auto',\n",
       "              random_seed=42, random_state=0, reg_alpha=0, reg_lambda=1,\n",
       "              scale_pos_weight=1, subsample=1, task_type='GPU', ...)"
      ]
     },
     "execution_count": 105,
     "metadata": {},
     "output_type": "execute_result"
    }
   ],
   "source": [
    "model_xgb.fit(X_train,y_train, eval_set=None)"
   ]
  },
  {
   "cell_type": "code",
   "execution_count": 106,
   "id": "26b02a5e",
   "metadata": {},
   "outputs": [],
   "source": [
    "#Catboost\n",
    "# y_pred_ctb=model_ctb.predict(X_test)\n",
    "#XGBoost\n",
    "y_pred_xgb=model_xgb.predict(X_test)\n",
    "#LGBM\n",
    "y_pred_lgb=model_lgb.predict(X_test)"
   ]
  },
  {
   "cell_type": "markdown",
   "id": "affc725c",
   "metadata": {},
   "source": [
    "# Results"
   ]
  },
  {
   "cell_type": "code",
   "execution_count": 107,
   "id": "55756643",
   "metadata": {},
   "outputs": [
    {
     "name": "stdout",
     "output_type": "stream",
     "text": [
      "F1-score of XGBoost: 0.56\n",
      "F1-score of LGBM: 0.57\n",
      "Accuracy\n"
     ]
    }
   ],
   "source": [
    "# print('F1-score of Catboost: {:.2f}'.format(f1_score(y_test, y_pred_ctb)))\n",
    "print('F1-score of XGBoost: {:.2f}'.format(f1_score(y_test, y_pred_xgb)))\n",
    "print('F1-score of LGBM: {:.2f}'.format(f1_score(y_test, y_pred_lgb)))\n",
    "print('Accuracy')"
   ]
  },
  {
   "cell_type": "code",
   "execution_count": 108,
   "id": "7393a086",
   "metadata": {},
   "outputs": [
    {
     "name": "stdout",
     "output_type": "stream",
     "text": [
      " accuracy with xgboost is 0.789\n",
      " accuracy with LGBM is 0.793\n"
     ]
    }
   ],
   "source": [
    "print(\" accuracy with xgboost is %2.3f\" % accuracy_score(y_test, y_pred_xgb))\n",
    "print(\" accuracy with LGBM is %2.3f\" % accuracy_score(y_test, y_pred_lgb))"
   ]
  },
  {
   "cell_type": "code",
   "execution_count": 109,
   "id": "3111a879",
   "metadata": {},
   "outputs": [],
   "source": [
    "# # check classification scores of logistic regression\n",
    "# randfor = RandomForestClassifier()\n",
    "# randfor.fit(X_train, y_train)\n",
    "# y_pred = randfor.predict(X_test)\n",
    "y_pred_proba = model_lgb.predict_proba(X_test)[:, 1]\n",
    "[fpr, tpr, thr] = roc_curve(y_test, y_pred_proba)"
   ]
  },
  {
   "cell_type": "code",
   "execution_count": 110,
   "id": "062598bb",
   "metadata": {},
   "outputs": [
    {
     "name": "stdout",
     "output_type": "stream",
     "text": [
      "Train/Test split results:\n",
      "LGBMClassifier accuracy is 0.793\n",
      "LGBMClassifier log_loss is 0.461\n",
      "LGBMClassifier auc is 0.809\n",
      "LGBMClassifier macro averaged f1_score is 0.715\n"
     ]
    }
   ],
   "source": [
    "print('Train/Test split results:')\n",
    "print(model_lgb.__class__.__name__+\" accuracy is %2.3f\" % accuracy_score(y_test, y_pred_lgb))\n",
    "print(model_lgb.__class__.__name__+\" log_loss is %2.3f\" % log_loss(y_test, y_pred_proba))\n",
    "print(model_lgb.__class__.__name__+\" auc is %2.3f\" % auc(fpr, tpr))\n",
    "print(model_lgb.__class__.__name__+\" macro averaged f1_score is %2.3f\" % f1_score(y_test, y_pred_lgb, average='macro'))"
   ]
  },
  {
   "cell_type": "code",
   "execution_count": 111,
   "id": "25a65b28",
   "metadata": {},
   "outputs": [
    {
     "name": "stderr",
     "output_type": "stream",
     "text": [
      "color is redundantly defined by the 'color' keyword argument and the fmt string \"k--\" (-> color='k'). The keyword argument will take precedence.\n",
      "color is redundantly defined by the 'color' keyword argument and the fmt string \"k--\" (-> color='k'). The keyword argument will take precedence.\n"
     ]
    },
    {
     "data": {
      "image/png": "[encoded data removed]",
      "text/plain": [
       "<Figure size 600x400 with 1 Axes>"
      ]
     },
     "metadata": {},
     "output_type": "display_data"
    },
    {
     "name": "stdout",
     "output_type": "stream",
     "text": [
      "Using a threshold of 0.094 guarantees a sensitivity of 0.950 and a specificity of 0.312, i.e. a false positive rate of 68.79%.\n"
     ]
    }
   ],
   "source": [
    "idx = np.min(np.where(tpr > 0.95)) # index of the first threshold for which the sensibility > 0.95\n",
    "\n",
    "plt.figure()\n",
    "plt.plot(fpr, tpr, color='coral', label='ROC curve (area = %0.3f)' % auc(fpr, tpr))\n",
    "plt.plot([0, 1], [0, 1], 'k--')\n",
    "plt.plot([0,fpr[idx]], [tpr[idx],tpr[idx]], 'k--', color='blue')\n",
    "plt.plot([fpr[idx],fpr[idx]], [0,tpr[idx]], 'k--', color='blue')\n",
    "plt.xlim([0.0, 1.0])\n",
    "plt.ylim([0.0, 1.05])\n",
    "plt.xlabel('False Positive Rate (1 - specificity)', fontsize=14)\n",
    "plt.ylabel('True Positive Rate (recall)', fontsize=14)\n",
    "plt.title('Receiver operating characteristic (ROC) curve')\n",
    "plt.legend(loc=\"lower right\")\n",
    "plt.show()\n",
    "\n",
    "print(\"Using a threshold of %.3f \" % thr[idx] + \"guarantees a sensitivity of %.3f \" % tpr[idx] +  \n",
    "      \"and a specificity of %.3f\" % (1-fpr[idx]) + \n",
    "      \", i.e. a false positive rate of %.2f%%.\" % (np.array(fpr[idx])*100))"
   ]
  },
  {
   "cell_type": "markdown",
   "id": "dc1b2237",
   "metadata": {},
   "source": [
    "# Prediction and Submission"
   ]
  },
  {
   "cell_type": "code",
   "execution_count": 114,
   "id": "54abcbf0",
   "metadata": {},
   "outputs": [],
   "source": [
    "X_given = X_given.drop(['y_pred2'],axis=1)"
   ]
  },
  {
   "cell_type": "code",
   "execution_count": 115,
   "id": "2b4e7129",
   "metadata": {},
   "outputs": [],
   "source": [
    "y_pred2 = model_lgb.predict(X_given)"
   ]
  },
  {
   "cell_type": "code",
   "execution_count": 116,
   "id": "4c834e89",
   "metadata": {},
   "outputs": [
    {
     "data": {
      "text/plain": [
       "array([0., 0., 0., ..., 1., 0., 0.])"
      ]
     },
     "execution_count": 116,
     "metadata": {},
     "output_type": "execute_result"
    }
   ],
   "source": [
    "y_pred2"
   ]
  },
  {
   "cell_type": "code",
   "execution_count": 117,
   "id": "cdbd860b",
   "metadata": {},
   "outputs": [],
   "source": [
    "X_given['y_pred2']=y_pred2"
   ]
  },
  {
   "cell_type": "code",
   "execution_count": 119,
   "id": "538f47e1",
   "metadata": {},
   "outputs": [],
   "source": [
    "Y_submit = X_given['y_pred2']"
   ]
  },
  {
   "cell_type": "code",
   "execution_count": 120,
   "id": "303ea162",
   "metadata": {},
   "outputs": [],
   "source": [
    "Y_submit.to_csv('submit_14.csv')"
   ]
  }
 ],
 "metadata": {
  "kernelspec": {
   "display_name": "Python 3 (ipykernel)",
   "language": "python",
   "name": "python3"
  },
  "language_info": {
   "codemirror_mode": {
    "name": "ipython",
    "version": 3
   },
   "file_extension": ".py",
   "mimetype": "text/x-python",
   "name": "python",
   "nbconvert_exporter": "python",
   "pygments_lexer": "ipython3",
   "version": "3.10.7"
  }
 },
 "nbformat": 4,
 "nbformat_minor": 5
}
